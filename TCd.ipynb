{
 "cells": [
  {
   "cell_type": "code",
   "execution_count": 2,
   "id": "e804a323",
   "metadata": {},
   "outputs": [
    {
     "name": "stdout",
     "output_type": "stream",
     "text": [
      "Requirement already satisfied: PyOpenGL in c:\\users\\abhin\\anaconda3\\lib\\site-packages (3.1.5)\n",
      "Note: you may need to restart the kernel to use updated packages.\n"
     ]
    }
   ],
   "source": [
    "pip install PyOpenGL"
   ]
  },
  {
   "cell_type": "code",
   "execution_count": 1,
   "id": "tight-comment",
   "metadata": {},
   "outputs": [],
   "source": [
    "#                       Y AND X are inverted\n",
    "\n",
    "rd=0.01745329\n",
    "lar=[]\n",
    "import cv2\n",
    "import math\n",
    "import numpy as np\n",
    "import matplotlib.pyplot as plt"
   ]
  },
  {
   "cell_type": "code",
   "execution_count": 2,
   "id": "clear-hearts",
   "metadata": {},
   "outputs": [],
   "source": [
    "\n",
    "fov=100\n",
    "ppx=13 #player position in x \n",
    "ppy=2 #player position in y\n",
    "pva=0 #player view angle\n",
    "GameResolution=[720,1280]\n",
    "miniMapResolution=[480,854]\n",
    "MapSize=[16,16]"
   ]
  },
  {
   "cell_type": "code",
   "execution_count": 3,
   "id": "entire-ferry",
   "metadata": {},
   "outputs": [],
   "source": [
    "mp=[[1,1., 1., 1., 1., 1., 1., 1., 1., 1, 1., 1., 1., 1, 1.,1],\n",
    "    [1,0., 0., 0., 0., 0., 0., 0., 0., 0., 0., 1., 0., 0., 1.,1],\n",
    "    [1,0., 0., 0., 0., 0., 0., 0., 1., 0., 0., 1., 0., 0., 0.,1],\n",
    "    [1,1., 1., 1., 1., 1., 0., 0., 1., 0., 0., 1., 0., 0., 0.,1],\n",
    "    [1,0., 0., 0., 0., 1., 0., 0., 1., 0., 0., 0., 0., 0., 0.,1],\n",
    "    [1,0., 1., 0., 0., 1., 0., 1., 0., 0., 0., 1., 1., 1., 0.,1],\n",
    "    [1,0., 1., 0., 0., 1., 0., 1., 0., 0., 0., 0., 0., 0., 0.,1],\n",
    "    [1,0., 1., 0., 0., 1., 0., 1., 0., 0., 0., 0., 0., 0., 0.,1],\n",
    "    [1,0., 1., 0., 0., 1., 0., 1., 0., 0., 0., 0., 0., 0., 0.,1],\n",
    "    [1,0., 1., 1., 1., 1., 0., 1., 0., 0., 0., 0., 0., 0., 0, 1],\n",
    "    [1,0., 0., 0., 0., 0., 0., 1., 0., 0., 1., 0., 0., 0., 0.,1],\n",
    "    [1,1., 0., 0., 0., 0., 0., 1., 0., 0., 1., 0., 0., 0., 0.,1],\n",
    "    [1,1., 1., 1., 1., 1., 1., 1., 1., 1, 1., 1., 1., 0, 0.,1  ],\n",
    "    [1,0., 0., 0., 0., 0., 0., 0., 0., 0., 0., 0., 0., 0., 0.,1],\n",
    "    [1,0., 0., 0., 0., 0., 0., 0., 0., 0., 0., 0., 0., 0., 0.,1],\n",
    "    [1,1., 1., 1., 1., 1., 1., 1., 1., 1, 1., 1., 1., 1, 1.,1]]\n",
    "\n",
    "mpd=[[1,1., 1., 1., 1., 1., 1., 1., 1., 1, 1., 1., 1., 1, 1.,1],\n",
    "    [1,0., 0., 0., 0., 0., 0., 0., 0., 0., 0., 1., 0., 0., 1.,1],\n",
    "    [1,0., 0., 0., 0., 0., 0., 0., 1., 0., 0., 1., 0., 0., 0.,1],\n",
    "    [1,1., 1., 1., 1., 1., 0., 0., 1., 0., 0., 1., 0., 0., 0.,1],\n",
    "    [1,0., 0., 0., 0., 1., 0., 0., 1., 0., 0., 0., 0., 0., 0.,1],\n",
    "    [1,0., 1., 0., 0., 1., 0., 1., 0., 0., 0., 1., 1., 1., 0.,1],\n",
    "    [1,0., 1., 0., 0., 1., 0., 1., 0., 0., 0., 0., 0., 0., 0.,1],\n",
    "    [1,0., 1., 0., 0., 1., 0., 1., 0., 0., 0., 0., 0., 0., 0.,1],\n",
    "    [1,0., 1., 0., 0., 1., 0., 1., 0., 0., 0., 0., 0., 0., 0.,1],\n",
    "    [1,0., 1., 1., 1., 1., 0., 1., 0., 0., 0., 0., 0., 0., 0, 1],\n",
    "    [1,0., 0., 0., 0., 0., 0., 1., 0., 0., 1., 0., 0., 0., 0.,1],\n",
    "    [1,1., 0., 0., 0., 0., 0., 1., 0., 0., 1., 0., 0., 0., 0.,1],\n",
    "    [1,1., 1., 1., 1., 1., 1., 1., 1., 1, 1., 1., 1., 0, 0.  ,1  ],\n",
    "    [1,0., 0., 0., 0., 0., 0., 0., 0., 0., 0., 0., 0., 0., 0.,1],\n",
    "    [1,0., 0., 0., 0., 0., 0., 0., 0., 0., 0., 0., 0., 0., 0.,1],\n",
    "    [1,1., 1., 1., 1., 1., 1., 1., 1., 1, 1., 1., 1., 1, 1.,1]]\n",
    "\n",
    "\n",
    "\n",
    "WAllTextur=[[1,1., 1., 1., 1., 1., 1., 1., 1., 1, 1., 1., 1., 1, 1.,1],\n",
    "            [1,0., 0., 0., 0., 0., 0., 0., 0., 0., 0., 1., 0., 0., 1.,1],\n",
    "            [1,0., 0., 0., 0., 0., 0., 0., 1., 0., 0., 1., 0., 0., 0.,1],\n",
    "            [1,1., 1., 1., 1., 1., 0., 0., 1., 0., 0., 1., 0., 0., 0.,1],\n",
    "            [1,0., 0., 0., 0., 1., 0., 0., 1., 0., 0., 0., 0., 0., 0.,1],\n",
    "            [1,0., 1., 0., 0., 1., 0., 1., 0., 0., 0., 1., 1., 1., 0.,1],\n",
    "            [1,0., 1., 0., 0., 1., 0., 1., 0., 0., 0., 0., 0., 0., 0.,1],\n",
    "            [1,0., 1., 0., 0., 1., 0., 1., 0., 0., 0., 0., 0., 0., 0.,1],\n",
    "            [1,0., 1., 0., 0., 1., 0., 1., 0., 0., 0., 0., 0., 0., 0.,1],\n",
    "            [1,0., 1., 1., 1., 1., 0., 1., 0., 0., 0., 0., 0., 0., 0, 1],\n",
    "            [1,0., 0., 0., 0., 0., 0., 1., 0., 0., 1., 0., 0., 0., 0.,1],\n",
    "            [1,1., 0., 0., 0., 0., 0., 1., 0., 0., 1., 0., 0., 0., 0.,1],\n",
    "            [1,1., 1., 1., 1., 1., 1., 1., 1., 1, 1., 1., 1., 0, 0.  ,1],\n",
    "            [1,0., 0., 0., 0., 0., 0., 0., 0., 0., 0., 0., 0., 0., 0.,1],\n",
    "            [1,0., 0., 0., 0., 0., 0., 0., 0., 0., 0., 0., 0., 0., 0.,1],\n",
    "            [1,1., 1., 1., 1., 1., 1., 1., 1., 1, 1., 1., 1., 1, 1.,1]]"
   ]
  },
  {
   "cell_type": "code",
   "execution_count": 4,
   "id": "arranged-vegetable",
   "metadata": {},
   "outputs": [
    {
     "data": {
      "text/plain": [
       "<matplotlib.image.AxesImage at 0x2656011b1c0>"
      ]
     },
     "execution_count": 4,
     "metadata": {},
     "output_type": "execute_result"
    },
    {
     "data": {
      "image/png": "[encoded data removed]",
      "text/plain": [
       "<Figure size 432x288 with 1 Axes>"
      ]
     },
     "metadata": {
      "needs_background": "light"
     },
     "output_type": "display_data"
    }
   ],
   "source": [
    "plt.imshow(mp)\n"
   ]
  },
  {
   "cell_type": "markdown",
   "id": "5daeb886",
   "metadata": {},
   "source": [
    "# ##############\n",
    "# 3D Renderer:   \n",
    "# ##############\n"
   ]
  },
  {
   "cell_type": "code",
   "execution_count": 5,
   "id": "b4d65d0d",
   "metadata": {},
   "outputs": [],
   "source": [
    "#########################################################################################################\n",
    "###################################### THE 3D RENDERER ##################################################\n",
    "#########################################################################################################\n",
    "\n",
    "\n",
    "def threDRenderer(posi,posy,pva,frame):\n",
    "    \n",
    "    RayDiff=fov/GameResolution[1]\n",
    "    \n",
    "    initialColm=0\n",
    "    \n",
    "    colLen=1\n",
    "    \n",
    "    \n",
    "    \n",
    "    #print(colLen)\n",
    "    #####################################\n",
    "    \n",
    "    ######################################\n",
    "    \n",
    "    nextCol=initialColm+colLen\n",
    "    a=pva+fov/2\n",
    "    while(a>pva-fov/2):\n",
    "    \n",
    "        \n",
    "        lar=lineTracer(posi,posy,0,a,1)\n",
    "        #(posi,posy,dist,pva,Wmode)\n",
    "        p=((posi-lar[-1][0])**2 + (posy-lar[-1][1])**2)**0.5 ##Finding distance to that intercection\n",
    "        #print(\"P: \",p)\n",
    "    #####################################\n",
    "        if p==0:\n",
    "            \n",
    "            wallHeight=0\n",
    "            \n",
    "        else:\n",
    "            \n",
    "            wallHeight=int((GameResolution[0])/(p/30))\n",
    "            \n",
    "        #print(\"wallHeight\",wallHeight)\n",
    "    #####################################    \n",
    "        ofset=(GameResolution[0]/2)\n",
    "        rngi=ofset-wallHeight/2\n",
    "        rngy=ofset+wallHeight/2\n",
    "        #print(\"rngi\",rngi)\n",
    "    #####################################  \n",
    "        #print(\"rngy\",rngy)\n",
    "    #####################################  \n",
    "        for i in range(int(initialColm),int(nextCol)):\n",
    "            for y in range(0,GameResolution[0]):\n",
    "                if(y>=rngi and y<=rngy):\n",
    "                    if(lar[-1][2][2]=='x'):\n",
    "                        frame[y][i][0]=10\n",
    "                    else:\n",
    "                        \n",
    "                        frame[y][i][1]=10\n",
    "         \n",
    "                elif(y<rngi):\n",
    "                    \n",
    "                    frame[y][i][2]=16\n",
    "                    \n",
    "                \n",
    "                    \n",
    "        initialColm=nextCol\n",
    "        nextCol+=colLen\n",
    "        if(nextCol>GameResolution[1]):\n",
    "            break\n",
    "        a+=RayDiff*(-1)    \n",
    "    return(frame)\n"
   ]
  },
  {
   "cell_type": "code",
   "execution_count": 6,
   "id": "worst-quality",
   "metadata": {},
   "outputs": [
    {
     "name": "stdout",
     "output_type": "stream",
     "text": [
      "405\n",
      "60\n"
     ]
    },
    {
     "name": "stderr",
     "output_type": "stream",
     "text": [
      "Clipping input data to the valid range for imshow with RGB data ([0..1] for floats or [0..255] for integers).\n"
     ]
    },
    {
     "data": {
      "image/png": "[encoded data removed]",
      "text/plain": [
       "<Figure size 432x288 with 1 Axes>"
      ]
     },
     "metadata": {
      "needs_background": "light"
     },
     "output_type": "display_data"
    },
    {
     "data": {
      "image/png": "[encoded data removed]",
      "text/plain": [
       "<Figure size 432x288 with 1 Axes>"
      ]
     },
     "metadata": {
      "needs_background": "light"
     },
     "output_type": "display_data"
    },
    {
     "name": "stdout",
     "output_type": "stream",
     "text": [
      "Dir dis ang\n",
      "d 17 90\n",
      "New player angle 90\n"
     ]
    },
    {
     "name": "stderr",
     "output_type": "stream",
     "text": [
      "Clipping input data to the valid range for imshow with RGB data ([0..1] for floats or [0..255] for integers).\n"
     ]
    },
    {
     "data": {
      "image/png": "[encoded data removed]",
      "text/plain": [
       "<Figure size 432x288 with 1 Axes>"
      ]
     },
     "metadata": {
      "needs_background": "light"
     },
     "output_type": "display_data"
    },
    {
     "data": {
      "image/png": "[encoded data removed]",
      "text/plain": [
       "<Figure size 432x288 with 1 Axes>"
      ]
     },
     "metadata": {
      "needs_background": "light"
     },
     "output_type": "display_data"
    },
    {
     "name": "stdout",
     "output_type": "stream",
     "text": [
      "Dir dis ang\n",
      "w 3 30\n",
      "New player angle 120\n"
     ]
    },
    {
     "name": "stderr",
     "output_type": "stream",
     "text": [
      "Clipping input data to the valid range for imshow with RGB data ([0..1] for floats or [0..255] for integers).\n"
     ]
    },
    {
     "data": {
      "image/png": "[encoded data removed]",
      "text/plain": [
       "<Figure size 432x288 with 1 Axes>"
      ]
     },
     "metadata": {
      "needs_background": "light"
     },
     "output_type": "display_data"
    },
    {
     "data": {
      "image/png": "[encoded data removed]",
      "text/plain": [
       "<Figure size 432x288 with 1 Axes>"
      ]
     },
     "metadata": {
      "needs_background": "light"
     },
     "output_type": "display_data"
    },
    {
     "name": "stdout",
     "output_type": "stream",
     "text": [
      "Dir dis ang\n"
     ]
    },
    {
     "ename": "KeyboardInterrupt",
     "evalue": "Interrupted by user",
     "output_type": "error",
     "traceback": [
      "\u001b[1;31m---------------------------------------------------------------------------\u001b[0m",
      "\u001b[1;31mKeyboardInterrupt\u001b[0m                         Traceback (most recent call last)",
      "\u001b[1;32m<ipython-input-6-106771619f61>\u001b[0m in \u001b[0;36m<module>\u001b[1;34m\u001b[0m\n\u001b[0;32m    363\u001b[0m     \u001b[1;31m#make a try catch block here\u001b[0m\u001b[1;33m\u001b[0m\u001b[1;33m\u001b[0m\u001b[1;33m\u001b[0m\u001b[0m\n\u001b[0;32m    364\u001b[0m \u001b[1;33m\u001b[0m\u001b[0m\n\u001b[1;32m--> 365\u001b[1;33m     \u001b[0mdirection\u001b[0m\u001b[1;33m,\u001b[0m\u001b[0mdis\u001b[0m\u001b[1;33m,\u001b[0m\u001b[0mang\u001b[0m\u001b[1;33m=\u001b[0m\u001b[0minput\u001b[0m\u001b[1;33m(\u001b[0m\u001b[1;33m)\u001b[0m\u001b[1;33m.\u001b[0m\u001b[0msplit\u001b[0m\u001b[1;33m(\u001b[0m\u001b[1;33m)\u001b[0m\u001b[1;33m\u001b[0m\u001b[1;33m\u001b[0m\u001b[0m\n\u001b[0m\u001b[0;32m    366\u001b[0m     \u001b[1;32mif\u001b[0m \u001b[0mdirection\u001b[0m\u001b[1;33m==\u001b[0m\u001b[1;34m\"exit\"\u001b[0m\u001b[1;33m:\u001b[0m\u001b[1;33m\u001b[0m\u001b[1;33m\u001b[0m\u001b[0m\n\u001b[0;32m    367\u001b[0m         \u001b[1;32mbreak\u001b[0m\u001b[1;33m\u001b[0m\u001b[1;33m\u001b[0m\u001b[0m\n",
      "\u001b[1;32m~\\anaconda3\\lib\\site-packages\\ipykernel\\kernelbase.py\u001b[0m in \u001b[0;36mraw_input\u001b[1;34m(self, prompt)\u001b[0m\n\u001b[0;32m    858\u001b[0m                 \u001b[1;34m\"raw_input was called, but this frontend does not support input requests.\"\u001b[0m\u001b[1;33m\u001b[0m\u001b[1;33m\u001b[0m\u001b[0m\n\u001b[0;32m    859\u001b[0m             )\n\u001b[1;32m--> 860\u001b[1;33m         return self._input_request(str(prompt),\n\u001b[0m\u001b[0;32m    861\u001b[0m             \u001b[0mself\u001b[0m\u001b[1;33m.\u001b[0m\u001b[0m_parent_ident\u001b[0m\u001b[1;33m,\u001b[0m\u001b[1;33m\u001b[0m\u001b[1;33m\u001b[0m\u001b[0m\n\u001b[0;32m    862\u001b[0m             \u001b[0mself\u001b[0m\u001b[1;33m.\u001b[0m\u001b[0m_parent_header\u001b[0m\u001b[1;33m,\u001b[0m\u001b[1;33m\u001b[0m\u001b[1;33m\u001b[0m\u001b[0m\n",
      "\u001b[1;32m~\\anaconda3\\lib\\site-packages\\ipykernel\\kernelbase.py\u001b[0m in \u001b[0;36m_input_request\u001b[1;34m(self, prompt, ident, parent, password)\u001b[0m\n\u001b[0;32m    902\u001b[0m             \u001b[1;32mexcept\u001b[0m \u001b[0mKeyboardInterrupt\u001b[0m\u001b[1;33m:\u001b[0m\u001b[1;33m\u001b[0m\u001b[1;33m\u001b[0m\u001b[0m\n\u001b[0;32m    903\u001b[0m                 \u001b[1;31m# re-raise KeyboardInterrupt, to truncate traceback\u001b[0m\u001b[1;33m\u001b[0m\u001b[1;33m\u001b[0m\u001b[1;33m\u001b[0m\u001b[0m\n\u001b[1;32m--> 904\u001b[1;33m                 \u001b[1;32mraise\u001b[0m \u001b[0mKeyboardInterrupt\u001b[0m\u001b[1;33m(\u001b[0m\u001b[1;34m\"Interrupted by user\"\u001b[0m\u001b[1;33m)\u001b[0m \u001b[1;32mfrom\u001b[0m \u001b[1;32mNone\u001b[0m\u001b[1;33m\u001b[0m\u001b[1;33m\u001b[0m\u001b[0m\n\u001b[0m\u001b[0;32m    905\u001b[0m             \u001b[1;32mexcept\u001b[0m \u001b[0mException\u001b[0m \u001b[1;32mas\u001b[0m \u001b[0me\u001b[0m\u001b[1;33m:\u001b[0m\u001b[1;33m\u001b[0m\u001b[1;33m\u001b[0m\u001b[0m\n\u001b[0;32m    906\u001b[0m                 \u001b[0mself\u001b[0m\u001b[1;33m.\u001b[0m\u001b[0mlog\u001b[0m\u001b[1;33m.\u001b[0m\u001b[0mwarning\u001b[0m\u001b[1;33m(\u001b[0m\u001b[1;34m\"Invalid Message:\"\u001b[0m\u001b[1;33m,\u001b[0m \u001b[0mexc_info\u001b[0m\u001b[1;33m=\u001b[0m\u001b[1;32mTrue\u001b[0m\u001b[1;33m)\u001b[0m\u001b[1;33m\u001b[0m\u001b[1;33m\u001b[0m\u001b[0m\n",
      "\u001b[1;31mKeyboardInterrupt\u001b[0m: Interrupted by user"
     ]
    }
   ],
   "source": [
    "##map upscler code\n",
    "\n",
    "map_Y_Miltiplier=int(miniMapResolution[0]/MapSize[0]) \n",
    "map_X_Miltiplier=int(miniMapResolution[1]/MapSize[1])\n",
    "#these multiplier no whn multiplies to orignal size of the map gives map in almost 480p Res\n",
    "\n",
    "\n",
    "#this is where the higher resolution is calculated.\n",
    "mapy=MapSize[0]*map_Y_Miltiplier    #first using y multiplier \n",
    "mapx=MapSize[1]*map_Y_Miltiplier\n",
    "if(mapx>miniMapResolution[1]):      #thn if the resolution is not corrrect \n",
    "    mapy=MapSize[0]*map_X_Miltiplier#we will use x multipler \n",
    "    mapx=MapSize[1]*map_X_Miltiplier\n",
    "    map_Y_Miltiplier=map_X_Miltiplier#the main multipler in all eq will be y multiplier so... put the right multiplier in it \n",
    "    \n",
    "    \n",
    "\n",
    "\n",
    "\n",
    "#this is the map resolution close to 480p\n",
    "\n",
    "miniMap=np.zeros([mapy,mapx])\n",
    "miniMapInfo=np.zeros([mapy,mapx])\n",
    "i=0\n",
    "y=0\n",
    "mmi=0\n",
    "mmy=0\n",
    "while True:\n",
    "    if(mmi<MapSize[0]):\n",
    "        y=0\n",
    "        mmy=0\n",
    "        while True:\n",
    "            if(mmy<MapSize[1]):\n",
    "                #print(mmi)\n",
    "                #print(mmy)\n",
    "                if(mp[mmi][mmy]==1):\n",
    "                    for x in range(i,i+map_Y_Miltiplier):\n",
    "                        for z in range(y,y+map_Y_Miltiplier):\n",
    "                            miniMap[x][z]=1\n",
    "                            miniMapInfo[x][z]=1\n",
    "                y+=map_Y_Miltiplier\n",
    "                mmy+=1\n",
    "            else:\n",
    "                break\n",
    "    else:\n",
    "        break\n",
    "    i+=map_Y_Miltiplier\n",
    "    mmi+=1\n",
    "    \n",
    "                                ##############################\n",
    "                                ####### GAME AREA :###########\n",
    "                                ##############################\n",
    "            \n",
    "########################################################################################\n",
    "                                #1. #Game Initialization \n",
    "########################################################################################\n",
    "\n",
    "\n",
    "######################################\n",
    "    #   INITIALIZING VARIABLES  #\n",
    "######################################\n",
    "\n",
    "\n",
    "\n",
    "fov=100\n",
    "ppx=13.5 #player position in x \n",
    "ppy=2 #player position in y\n",
    "pva=100 #player view angle\n",
    "playerSize=5\n",
    "StepSize=20\n",
    "GameResolution=[720,1280]\n",
    "miniMapResolution=[480,854]\n",
    "MapSize=[16,16]\n",
    "angleLinePAth1=[]\n",
    "angleLinePAth2=[]\n",
    "angleLinePAth2=[]\n",
    "\n",
    "######################################    (Not in working Condition)\n",
    "    #   INITIALIZING METHODS  #\n",
    "######################################\n",
    "\n",
    "\n",
    "\n",
    "##Draws the player and the direction stick ahead of the player \n",
    "def DrawPlayer(posi,posy,mapar):#gets player position in x and y cordinates in the frame matrix\n",
    "    for i in range(posi-playerSize,posi+playerSize+1):\n",
    "        for y in range(posy-playerSize,posy+playerSize+1):\n",
    "            mapar[i][y]=1\n",
    "            \n",
    "            \n",
    "            \n",
    "            \n",
    "##Removes remains of the player and the direction stick of the player \n",
    "def RemPlayer(posi,posy,mapar):#gets player position in x and y cordinates in the frame matrix\n",
    "    for i in range(posi-playerSize,posi+playerSize+1):\n",
    "        for y in range(posy-playerSize,posy+playerSize+1):\n",
    "            mapar[i][y]=0\n",
    "\n",
    "\n",
    "\n",
    "\n",
    "\n",
    "\n",
    "\n",
    "######################################  \n",
    "    # LINE FUNCTIONS    #\n",
    "######################################\n",
    "\n",
    "def drawLine(thickness,lar,mapvr):\n",
    "    thickness=int(thickness/2)\n",
    "    for i in lar:\n",
    "        for x in range(i[0]-thickness,i[0]+thickness+1):\n",
    "            for y in range(i[1]-thickness,i[1]+thickness+1):\n",
    "                mapvr[x][y]=1\n",
    "    \n",
    "def remLine(thickness,lar,mapvr):\n",
    "    thickness=int(thickness/2)\n",
    "    for i in lar:\n",
    "        for x in range(i[0]-thickness,i[0]+thickness+1):\n",
    "            for y in range(i[1]-thickness,i[1]+thickness+1):\n",
    "                mapvr[x][y]=0\n",
    "                \n",
    "def isWall(MpInfo,x,y):\n",
    "    if(mpInfo[x][y]>=1):\n",
    "        return(True)\n",
    "    return(False)\n",
    "    \n",
    "    \n",
    "    \n",
    "    \n",
    "def lineTracer(posi,posy,dist,pva,Wmode):\n",
    "             # (Position of player in y,Position of player in y,distance of the line ,Player View angle ,Wall mode if the line is to be drawn till wall is found)\n",
    "                \n",
    "    lineAr=[] # will keep track of all the points of the line \n",
    "    if(Wmode==0):\n",
    "        if(dist==0):\n",
    "            dist=80\n",
    "    else:\n",
    "        dist=1920\n",
    "    \n",
    "\n",
    "    \n",
    "    if(pva==0 or pva==360):\n",
    "        pva+=0.3\n",
    "    elif(pva==270 or pva==90):\n",
    "        pva+=0.3\n",
    "       \n",
    "    disy = abs(1/math.tan(rd*pva))\n",
    "    disx = abs(math.tan(rd*pva))\n",
    "    #print(disy,disx)\n",
    "    flg=0\n",
    "    xadder=0\n",
    "    yadder=0\n",
    "    multiplierxa=-1\n",
    "    multiplierya=1\n",
    "    if(pva>90 and pva<=180):\n",
    "        multiplierya=-1\n",
    "    elif(pva>180 and pva<=270):\n",
    "        multiplierxa=1\n",
    "        multiplierya=-1\n",
    "    elif(pva>270 and pva<=360):\n",
    "        multiplierxa=1\n",
    "        multiplierya=1\n",
    "    \n",
    "    #################################################\n",
    "    #Cases to look at\n",
    "    #1. x>y\n",
    "    #2. Y<x\n",
    "    #3  y==x\n",
    "    #################################################\n",
    "    #if x is greater than y \n",
    "    lineAr.append([posi,posy])\n",
    "    \n",
    "    \n",
    "    \n",
    "    \n",
    "    if(disy>disx):\n",
    "        \n",
    "        #print(\"y is bigger\")\n",
    "         \n",
    "        y=disy #so this for every increase in y there will be y no of x increase \n",
    "        #initial y \n",
    "        prev_y=0\n",
    "\n",
    "        noOfSteps=0\n",
    "        while True:\n",
    "            prev_y=y\n",
    "            y+=disy\n",
    "            \n",
    "            for x_lp in range(1,(int(y)-int(prev_y))+1):\n",
    "                yadder+=(1*multiplierya)\n",
    "                if(miniMapInfo[posi+xadder,posy+yadder]>=1   or noOfSteps==dist):\n",
    "                    lineAr[-1].append([posi+xadder,posy+yadder,'y'])\n",
    "                    flg=1\n",
    "                    break\n",
    "                \n",
    "                lineAr.append([posi+xadder,posy+yadder])\n",
    "                \n",
    "                noOfSteps+=1\n",
    "               \n",
    "            \n",
    "            xadder+=(1*multiplierxa)\n",
    "            if(miniMapInfo[posi+xadder,posy+yadder]>=1   or noOfSteps==dist  or flg==1):\n",
    "                lineAr[-1].append([posi+xadder,posy+yadder,'x'])\n",
    "                break\n",
    "            lineAr.append([posi+xadder,posy+yadder])\n",
    "            noOfSteps+=1\n",
    "            if(noOfSteps==dist):\n",
    "                break\n",
    "                \n",
    "                \n",
    "                \n",
    "    elif(disx>disy):\n",
    "        #print(\"x is bigger\")\n",
    "        x=disx #so this for every increase in y there will be y no of x increase \n",
    "        #initial y \n",
    "        prev_x=0\n",
    "        \n",
    "        \n",
    "        noOfSteps=0\n",
    "        while True:\n",
    "            prev_x=x\n",
    "            x+=disx\n",
    "            for x_lp in range(1,(int(x)-int(prev_x))+1):\n",
    "                xadder+=(1*multiplierxa)\n",
    "                if(miniMapInfo[posi+xadder,posy+yadder]>=1 or noOfSteps==dist):\n",
    "                    lineAr[-1].append([posi+xadder,posy+yadder,'x'])\n",
    "                    flg=1\n",
    "                    break\n",
    "                \n",
    "                \n",
    "                lineAr.append([posi+xadder,posy+yadder])\n",
    "                noOfSteps+=1\n",
    "               \n",
    "            yadder+=(1*multiplierya)\n",
    "            if(miniMapInfo[posi+xadder,posy+yadder]>=1   or noOfSteps==dist  or flg==1):\n",
    "                lineAr[-1].append([posi+xadder,posy+yadder,'y'])\n",
    "                break\n",
    "            lineAr.append([posi+xadder,posy+yadder])\n",
    "            noOfSteps+=1\n",
    "            if(noOfSteps==dist):\n",
    "                break\n",
    "    else: ##When both x and y are equal or andle is multiple of 45 something\n",
    "        #print(\"they are same\")\n",
    "        noOfSteps=0\n",
    "        while True:\n",
    "            step+=1\n",
    "            xadder+=(1*multiplierxa)\n",
    "            yadder+=(1*multiplierya)\n",
    "            if(miniMapInfo[posi+xadder,posy+yadder]>=1 or noOfSteps==dist):\n",
    "                    lineAr[-1].append([posi+xadder,posy+yadder,'y'])\n",
    "                    break\n",
    "            lineAr.append([posi+xadder,posy+yadder])\n",
    "            \n",
    "    #print(\"Ar\",lineAr)\n",
    "    return(lineAr)\n",
    "\n",
    "\n",
    "###########################\n",
    "#  Player motion Handeler \n",
    "###########################\n",
    "    ## this moves the player stratigically int the map \n",
    "    ## What this function does .\n",
    "    ## Calculation of new location of the player \n",
    "    ## Collision detection.\n",
    "    ## the movement should be acording to where the player is looking\n",
    "\n",
    "def MovPlayer(posi,posy,pva,mapar,direction,dis,        na,lar):  ## this is work in progress.  (Changes to the line(pva,dis,na))\n",
    "                                               #,#new angle(add it to current player angle)\n",
    "    \n",
    "    \n",
    "    \n",
    "    pva=pva+na\n",
    "    print(\"New player angle\",pva)\n",
    "     \n",
    "    if(pva>360):\n",
    "        pva-=360\n",
    "    RemPlayer(posi,posy,mapar)\n",
    "    remLine(3,lar,mapar)\n",
    "    \n",
    "    \n",
    "    ## Collision detection \n",
    "    lar=lineTracer(posi,posy,45,pva,1)\n",
    "    le=len(lar)## giving the distance that player will move\n",
    "    if(le-15-1>=0 and le-15 <=dis*StepSize):\n",
    "        psoi=lar[le-15-1][0]\n",
    "        psoy=lar[le-15-1][1]\n",
    "    #tracing a straight line from the player ...... finding sitance from the wall\n",
    "     \n",
    "    \n",
    "    if(direction=='w'):\n",
    "        posi-=(StepSize*dis)\n",
    "    elif(direction=='s'):\n",
    "        posi+=(StepSize*dis)\n",
    "    elif(direction=='d'):\n",
    "        posy+=(StepSize*dis)\n",
    "    elif(direction=='a'):\n",
    "        posy-=(StepSize*dis)\n",
    "    DrawPlayer(posi,posy,mapar)\n",
    "    lar=lineTracer(posi,posy,45,pva,1)\n",
    "    drawLine(3,lar,mapar)\n",
    "    return(posi,posy,lar,pva)\n",
    "\n",
    "\n",
    "\n",
    "\n",
    "\n",
    "\n",
    "ppx=int(ppx*map_Y_Miltiplier)\n",
    "ppy=int(ppy*map_Y_Miltiplier)\n",
    "pva=0\n",
    "lar=[[ppx,ppy]]\n",
    "print(ppx)\n",
    "print(ppy)\n",
    "print\n",
    "DrawPlayer(ppx,ppy,miniMap)\n",
    "\n",
    "fov/=2\n",
    "\n",
    "\n",
    "\n",
    "\n",
    "\n",
    "\n",
    "\n",
    "\n",
    "\n",
    "\n",
    "\n",
    "\n",
    "\n",
    "\n",
    "\n",
    "\n",
    "\n",
    "\n",
    "\n",
    "\n",
    "\n",
    "\n",
    "########################################################################################\n",
    "                                #2. GAME LOOP   (ADD A WAY TO CALCUALTE FPS)\n",
    "########################################################################################\n",
    "#cv2.namedWindow('Doom Clone',cv2.WINDOW_AUTOSIZE)\n",
    "while True:\n",
    "    ##########\n",
    "    #3d frame\n",
    "    Frame=np.zeros([GameResolution[0],GameResolution[1],3])\n",
    "    Frame=threDRenderer(ppx,ppy,pva,Frame)\n",
    "    plt.imshow(Frame)\n",
    "    plt.show()\n",
    "    \n",
    "    \n",
    "    \n",
    "    \n",
    "    \n",
    "    ###########\n",
    "    plt.imshow(miniMap)\n",
    "    plt.show()\n",
    "    #cv2.imshow('Doom', miniMap)\n",
    "    print(\"Dir dis ang\")\n",
    "    \n",
    "    #make a try catch block here\n",
    "    \n",
    "    direction,dis,ang=input().split()\n",
    "    if direction==\"exit\":\n",
    "        break\n",
    "    dis=int(dis)\n",
    "    ang=int(ang)\n",
    "    ppx,ppy,lar,pva=MovPlayer(ppx,ppy,pva,miniMap,direction,dis,ang,lar)\n",
    "    #print(ppx)\n",
    "    #print(ppy)\n",
    "#cv2.destroyAllWindows()"
   ]
  },
  {
   "cell_type": "code",
   "execution_count": null,
   "id": "continent-question",
   "metadata": {},
   "outputs": [],
   "source": [
    "cv2.imshow(\"BEAST ENGINE\",Frame)"
   ]
  },
  {
   "cell_type": "code",
   "execution_count": null,
   "id": "occupational-silver",
   "metadata": {},
   "outputs": [],
   "source": []
  },
  {
   "cell_type": "code",
   "execution_count": null,
   "id": "outer-carry",
   "metadata": {},
   "outputs": [],
   "source": [
    "import cv2"
   ]
  },
  {
   "cell_type": "code",
   "execution_count": null,
   "id": "informative-spare",
   "metadata": {},
   "outputs": [],
   "source": []
  },
  {
   "cell_type": "code",
   "execution_count": null,
   "id": "radio-material",
   "metadata": {},
   "outputs": [],
   "source": []
  },
  {
   "cell_type": "code",
   "execution_count": null,
   "id": "french-berkeley",
   "metadata": {},
   "outputs": [],
   "source": []
  },
  {
   "cell_type": "code",
   "execution_count": null,
   "id": "everyday-raleigh",
   "metadata": {},
   "outputs": [],
   "source": []
  },
  {
   "cell_type": "code",
   "execution_count": null,
   "id": "twelve-length",
   "metadata": {},
   "outputs": [],
   "source": []
  },
  {
   "cell_type": "code",
   "execution_count": null,
   "id": "disciplinary-python",
   "metadata": {},
   "outputs": [],
   "source": [
    "\n"
   ]
  },
  {
   "cell_type": "code",
   "execution_count": 3,
   "id": "apart-appendix",
   "metadata": {},
   "outputs": [
    {
     "data": {
      "text/plain": [
       "0.999999773205129"
      ]
     },
     "execution_count": 3,
     "metadata": {},
     "output_type": "execute_result"
    }
   ],
   "source": [
    "math.tan(45*rd)"
   ]
  },
  {
   "cell_type": "code",
   "execution_count": 4,
   "id": "greek-pioneer",
   "metadata": {},
   "outputs": [
    {
     "data": {
      "text/plain": [
       "1"
      ]
     },
     "execution_count": 4,
     "metadata": {},
     "output_type": "execute_result"
    }
   ],
   "source": [
    "abs(-1)"
   ]
  },
  {
   "cell_type": "code",
   "execution_count": null,
   "id": "marked-navigation",
   "metadata": {},
   "outputs": [],
   "source": [
    "pip insta"
   ]
  }
 ],
 "metadata": {
  "kernelspec": {
   "display_name": "Python 3",
   "language": "python",
   "name": "python3"
  },
  "language_info": {
   "codemirror_mode": {
    "name": "ipython",
    "version": 3
   },
   "file_extension": ".py",
   "mimetype": "text/x-python",
   "name": "python",
   "nbconvert_exporter": "python",
   "pygments_lexer": "ipython3",
   "version": "3.8.10"
  }
 },
 "nbformat": 4,
 "nbformat_minor": 5
}
